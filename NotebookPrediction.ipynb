{
  "nbformat": 4,
  "nbformat_minor": 0,
  "metadata": {
    "colab": {
      "name": "prediction_script (1).ipynb",
      "provenance": []
    },
    "kernelspec": {
      "name": "python3",
      "display_name": "Python 3"
    },
    "language_info": {
      "name": "python"
    },
    "accelerator": "GPU"
  },
  "cells": [
    {
      "cell_type": "code",
      "metadata": {
        "id": "X8FZEEkG3V2p"
      },
      "source": [
        "import cv2\n",
        "import numpy as np\n",
        "from keras.models import load_model\n",
        "from tensorflow.keras.applications.vgg16 import VGG16, preprocess_input"
      ],
      "execution_count": 1,
      "outputs": []
    },
    {
      "cell_type": "code",
      "metadata": {
        "id": "OLgF7gUUPjLo"
      },
      "source": [
        "classes = ['Bad','Good']"
      ],
      "execution_count": 2,
      "outputs": []
    },
    {
      "cell_type": "code",
      "metadata": {
        "id": "mWz9WdalP4bh"
      },
      "source": [
        "import matplotlib.pyplot as plt"
      ],
      "execution_count": 3,
      "outputs": []
    },
    {
      "cell_type": "code",
      "metadata": {
        "id": "td1tsgw13lBo"
      },
      "source": [
        "def model_load():\n",
        "  transfer_model = load_model('/content/drive/MyDrive/vgg_cavity_new_99_90.h5')\n",
        "  return transfer_model\n",
        "\n",
        "def prediction(image_path):\n",
        "  dim = (224,224)\n",
        "  transfer_model = model_load()\n",
        "  img = cv2.imread(image_path)\n",
        "  plt.imshow(img)\n",
        "  img = cv2.cvtColor(img, cv2.COLOR_BGR2RGB)\n",
        "  img = cv2.resize(img,dim) \n",
        "  img = preprocess_input(img)\n",
        "  img = np.expand_dims(img,axis=0)\n",
        "  prediction = transfer_model.predict(img)\n",
        "  preds = np.argmax(prediction,axis=1)\n",
        "  plt.title(classes[preds[0]])\n",
        "  #print('Predicted class:',preds[0])"
      ],
      "execution_count": 7,
      "outputs": []
    },
    {
      "cell_type": "code",
      "metadata": {
        "colab": {
          "base_uri": "https://localhost:8080/",
          "height": 281
        },
        "id": "v512l7by4XUo",
        "outputId": "a82e4442-853c-44d9-f77a-6d4daaee628d"
      },
      "source": [
        "img_path = '/content/drive/MyDrive/Teeth_Cavity/model_test_images/bad/4.jpg'\n",
        "prediction(img_path)"
      ],
      "execution_count": 8,
      "outputs": [
        {
          "output_type": "display_data",
          "data": {
            "image/png": "[encoded data removed]",
            "text/plain": [
              "<Figure size 432x288 with 1 Axes>"
            ]
          },
          "metadata": {
            "needs_background": "light"
          }
        }
      ]
    },
    {
      "cell_type": "code",
      "metadata": {
        "colab": {
          "base_uri": "https://localhost:8080/",
          "height": 688
        },
        "id": "JrIpM-xh4k74",
        "outputId": "adeac75b-a3c6-4e6b-8870-72c92a16a0dd"
      },
      "source": [
        "from tensorflow import keras\n",
        "from sklearn.metrics import accuracy_score, confusion_matrix\n",
        "from tensorflow.keras.preprocessing.image import ImageDataGenerator\n",
        "from tensorflow.keras.applications.vgg16 import VGG16, preprocess_input\n",
        "import matplotlib.pyplot as plt\n",
        "import seaborn as sns\n",
        "\n",
        "def prediction_2():\n",
        "  dataset_t = '/content/drive/MyDrive/Teeth_Cavity/model_test_images'\n",
        "  img_height, img_width = 224, 224\n",
        "  transfer_model = model_load()\n",
        "  \n",
        "  datagen =  keras.preprocessing.image.ImageDataGenerator(preprocessing_function=preprocess_input)\n",
        "                                                        \n",
        "  test_generator = datagen.flow_from_directory(dataset_t,\n",
        "                                            batch_size=32,\n",
        "                                            class_mode='categorical',\n",
        "                                            target_size=(img_height, img_width),\n",
        "                                            shuffle = False,\n",
        "                                            seed=2)\n",
        "  prediction = transfer_model.predict_generator(test_generator)\n",
        "  preds = np.argmax(prediction,axis=1)\n",
        "  print(preds)\n",
        "  true_classes=test_generator.classes\n",
        "  nb_categories = 2\n",
        "  category_names = test_generator.class_indices.keys()\n",
        "  plt.figure(figsize=(10,10))\n",
        "  sns.heatmap(confusion_matrix(true_classes, preds), annot=True, cmap='Blues')\n",
        "  plt.xticks(np.arange(nb_categories), category_names)\n",
        "  plt.yticks(np.arange(nb_categories), category_names)\n",
        "  \n",
        "  plt.show()\n",
        "\n",
        "prediction_2()"
      ],
      "execution_count": 10,
      "outputs": [
        {
          "output_type": "stream",
          "name": "stdout",
          "text": [
            "Found 10 images belonging to 2 classes.\n"
          ]
        },
        {
          "output_type": "stream",
          "name": "stderr",
          "text": [
            "/usr/local/lib/python3.7/dist-packages/keras/engine/training.py:2035: UserWarning: `Model.predict_generator` is deprecated and will be removed in a future version. Please use `Model.predict`, which supports generators.\n",
            "  warnings.warn('`Model.predict_generator` is deprecated and '\n"
          ]
        },
        {
          "output_type": "stream",
          "name": "stdout",
          "text": [
            "[0 0 0 0 0 1 1 1 1 0]\n"
          ]
        },
        {
          "output_type": "display_data",
          "data": {
            "image/png": "[encoded data removed]",
            "text/plain": [
              "<Figure size 720x720 with 2 Axes>"
            ]
          },
          "metadata": {
            "needs_background": "light"
          }
        }
      ]
    }
  ]
}