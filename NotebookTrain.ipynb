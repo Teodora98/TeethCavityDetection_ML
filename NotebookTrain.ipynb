{
  "nbformat": 4,
  "nbformat_minor": 0,
  "metadata": {
    "colab": {
      "name": "vgg16_cavity_new_99_90 (1).ipynb",
      "provenance": [],
      "collapsed_sections": []
    },
    "kernelspec": {
      "name": "python3",
      "display_name": "Python 3"
    },
    "language_info": {
      "name": "python"
    },
    "accelerator": "GPU"
  },
  "cells": [
    {
      "cell_type": "code",
      "metadata": {
        "id": "vqu-uiFVm9Bp"
      },
      "source": [
        "import pandas as pd\n",
        "import numpy as np\n",
        "import matplotlib.pyplot as plt\n",
        "import seaborn as sns\n",
        "import cv2\n",
        "import tensorflow as tf\n",
        "from PIL import Image\n",
        "import os\n",
        "from tensorflow.keras.optimizers import Adam\n",
        "from tensorflow import keras\n",
        "from sklearn.metrics import accuracy_score, confusion_matrix\n",
        "from sklearn.metrics import classification_report\n",
        "import matplotlib.pyplot as plt\n",
        "from sklearn.metrics import ConfusionMatrixDisplay\n"
      ],
      "execution_count": 8,
      "outputs": []
    },
    {
      "cell_type": "code",
      "metadata": {
        "id": "MUlcpvTRnAih"
      },
      "source": [
        "from tensorflow.keras.preprocessing.image import ImageDataGenerator, load_img\n",
        "from tensorflow.keras.callbacks import ModelCheckpoint\n",
        "from tensorflow.keras import layers, models, Model, optimizers\n",
        "from tensorflow.keras.layers import Dense, Flatten, Conv2D, MaxPooling2D, Dropout, BatchNormalization, GlobalAveragePooling1D\n",
        "from tensorflow.keras.applications.vgg16 import VGG16, preprocess_input\n",
        "from tensorflow.keras.models import Sequential\n",
        "from keras.models import load_model"
      ],
      "execution_count": 11,
      "outputs": []
    },
    {
      "cell_type": "code",
      "metadata": {
        "id": "43XR8SIYnHQY"
      },
      "source": [
        "#folder directories\n",
        "dataset = '/content/drive/MyDrive/dental/dental_dataset_procisteni_2'"
      ],
      "execution_count": 6,
      "outputs": []
    },
    {
      "cell_type": "code",
      "metadata": {
        "colab": {
          "base_uri": "https://localhost:8080/"
        },
        "id": "ime0P97xxGhK",
        "outputId": "1d55d1d8-0c8f-4400-d3cc-5b26a8a617fb"
      },
      "source": [
        "img_height, img_width = 224, 224\n",
        "\n",
        "datagen =  keras.preprocessing.image.ImageDataGenerator(preprocessing_function=preprocess_input,validation_split=0.2)\n",
        "                                                        \n",
        "train_generator = datagen.flow_from_directory(dataset,\n",
        "                                            batch_size=32,\n",
        "                                            class_mode='categorical',\n",
        "                                            target_size=(img_height, img_width),\n",
        "                                            subset='training',\n",
        "                                            shuffle = True,\n",
        "                                            seed=2)\n",
        "\n",
        "validation_generator = datagen.flow_from_directory(dataset,\n",
        "                                            batch_size=32,\n",
        "                                            class_mode='categorical',\n",
        "                                            target_size=(img_height, img_width),\n",
        "                                            subset='validation',\n",
        "                                            shuffle=False,\n",
        "                                            seed=2)"
      ],
      "execution_count": 7,
      "outputs": [
        {
          "output_type": "stream",
          "name": "stdout",
          "text": [
            "Found 641 images belonging to 2 classes.\n",
            "Found 160 images belonging to 2 classes.\n"
          ]
        }
      ]
    },
    {
      "cell_type": "code",
      "metadata": {
        "id": "SE-EdByQrI26",
        "colab": {
          "base_uri": "https://localhost:8080/"
        },
        "outputId": "980b3a27-58d8-46b0-f28f-84209ae4afd9"
      },
      "source": [
        "value, counts = np.unique(train_generator.classes,return_counts=True)\n",
        "dict(zip(value,counts))"
      ],
      "execution_count": 9,
      "outputs": [
        {
          "output_type": "execute_result",
          "data": {
            "text/plain": [
              "{0: 320, 1: 321}"
            ]
          },
          "metadata": {},
          "execution_count": 9
        }
      ]
    },
    {
      "cell_type": "code",
      "metadata": {
        "colab": {
          "base_uri": "https://localhost:8080/"
        },
        "id": "cK_mPQ6lkwrL",
        "outputId": "58670c40-aadf-47d1-a1a3-f33d63dcc5ff"
      },
      "source": [
        "value, counts = np.unique(validation_generator.classes,return_counts=True)\n",
        "dict(zip(value,counts))"
      ],
      "execution_count": 10,
      "outputs": [
        {
          "output_type": "execute_result",
          "data": {
            "text/plain": [
              "{0: 80, 1: 80}"
            ]
          },
          "metadata": {},
          "execution_count": 10
        }
      ]
    },
    {
      "cell_type": "code",
      "metadata": {
        "id": "Gt2E-iJkX38f"
      },
      "source": [
        "!pip install -q -U albumentations"
      ],
      "execution_count": null,
      "outputs": []
    },
    {
      "cell_type": "code",
      "metadata": {
        "colab": {
          "base_uri": "https://localhost:8080/"
        },
        "id": "e0fDgQE7X6Ee",
        "outputId": "ae1dd501-8a13-4aa3-bd55-1600aa0545c4"
      },
      "source": [
        "!echo \"$(pip freeze | grep albumentations) is successfully installed\""
      ],
      "execution_count": null,
      "outputs": [
        {
          "output_type": "stream",
          "name": "stdout",
          "text": [
            "albumentations==1.1.0 is successfully installed\n"
          ]
        }
      ]
    },
    {
      "cell_type": "code",
      "metadata": {
        "id": "jJHbk25rX8w6"
      },
      "source": [
        "import albumentations as A\n",
        "from tensorflow.keras.utils import Sequence\n",
        "\n",
        "class AugmentDataGenerator(Sequence):\n",
        "    def __init__(self, datagen, augment=None):\n",
        "        self.datagen = datagen\n",
        "        if augment is None:\n",
        "            self.augment = A.Compose([])\n",
        "        else:\n",
        "            self.augment = augment\n",
        "\n",
        "    def __len__(self):\n",
        "        return len(self.datagen)\n",
        "\n",
        "    def __getitem__(self, x):\n",
        "        images, *rest = self.datagen[x]\n",
        "        augmented = []\n",
        "        for image in images:\n",
        "            image = self.augment(image=image)['image']\n",
        "            augmented.append(image)\n",
        "        # print(type(augemented))\n",
        "        # print(type(*rest))\n",
        "        # raise Exception\n",
        "        return (np.array(augmented), *rest)\n"
      ],
      "execution_count": null,
      "outputs": []
    },
    {
      "cell_type": "code",
      "metadata": {
        "id": "-vXdlhygYBAy"
      },
      "source": [
        "train_generator = AugmentDataGenerator(train_generator, A.Compose([\n",
        "    A.HorizontalFlip(),\n",
        "    A.VerticalFlip()\n",
        "    #A.Rotate(limit=30),\n",
        "    #A.RandomBrightness(limit=0.1),\n",
        "    #A.HueSaturationValue(hue_shift_limit=20, sat_shift_limit=30, val_shift_limit=20, p=0.5),\n",
        "    #A.RandomContrast(limit=0.2, p=0.5),\n",
        "    #A.GridDistortion(distort_limit=0.2,p=.1),\n",
        "    #A.OpticalDistortion(p=0.3),\n",
        "    #A.ElasticTransform(sigma=20)\n",
        "]))"
      ],
      "execution_count": null,
      "outputs": []
    },
    {
      "cell_type": "code",
      "metadata": {
        "colab": {
          "base_uri": "https://localhost:8080/",
          "height": 298
        },
        "id": "0Tnh_BezcJ1J",
        "outputId": "b21cf8d9-9862-4fcf-8ae1-3b7b797b86a2"
      },
      "source": [
        " for x,y in train_generator:\n",
        "   plt.imshow(x[0,...],cmap='gray')\n",
        "\n",
        "   plt.title(str(y[0]))\n",
        "   plt.show()\n",
        "   break"
      ],
      "execution_count": null,
      "outputs": [
        {
          "output_type": "stream",
          "name": "stderr",
          "text": [
            "Clipping input data to the valid range for imshow with RGB data ([0..1] for floats or [0..255] for integers).\n"
          ]
        },
        {
          "output_type": "display_data",
          "data": {
            "image/png": "[encoded data removed]",
            "text/plain": [
              "<Figure size 432x288 with 1 Axes>"
            ]
          },
          "metadata": {
            "needs_background": "light"
          }
        }
      ]
    },
    {
      "cell_type": "code",
      "metadata": {
        "colab": {
          "base_uri": "https://localhost:8080/"
        },
        "id": "7D_aselzIC2p",
        "outputId": "ada190c0-985d-4661-900b-82b53a217a9b"
      },
      "source": [
        "value, counts = np.unique(validation_generator.classes,return_counts=True)\n",
        "dict(zip(value,counts))"
      ],
      "execution_count": null,
      "outputs": [
        {
          "output_type": "execute_result",
          "data": {
            "text/plain": [
              "{0: 81, 1: 80}"
            ]
          },
          "metadata": {},
          "execution_count": 90
        }
      ]
    },
    {
      "cell_type": "markdown",
      "metadata": {
        "id": "UkbN3IYmMczM"
      },
      "source": [
        "# New"
      ]
    },
    {
      "cell_type": "code",
      "metadata": {
        "id": "0AcOSi0eMeok",
        "colab": {
          "base_uri": "https://localhost:8080/"
        },
        "outputId": "97258ab9-e3b2-4a60-9da4-3043d1b48fba"
      },
      "source": [
        "vgg_model = VGG16(weights='imagenet', include_top=False, input_shape=(img_height, img_width, 3))"
      ],
      "execution_count": 12,
      "outputs": [
        {
          "output_type": "stream",
          "name": "stdout",
          "text": [
            "Downloading data from https://storage.googleapis.com/tensorflow/keras-applications/vgg16/vgg16_weights_tf_dim_ordering_tf_kernels_notop.h5\n",
            "58892288/58889256 [==============================] - 0s 0us/step\n",
            "58900480/58889256 [==============================] - 0s 0us/step\n"
          ]
        }
      ]
    },
    {
      "cell_type": "code",
      "metadata": {
        "colab": {
          "base_uri": "https://localhost:8080/"
        },
        "id": "OVeUpdPTn5R3",
        "outputId": "badde623-faa5-457b-ce0e-6487f12b9e83"
      },
      "source": [
        "print(type(vgg_model.layers))"
      ],
      "execution_count": null,
      "outputs": [
        {
          "output_type": "stream",
          "name": "stdout",
          "text": [
            "<class 'list'>\n"
          ]
        }
      ]
    },
    {
      "cell_type": "code",
      "metadata": {
        "colab": {
          "base_uri": "https://localhost:8080/"
        },
        "id": "dSU2WmFIMiay",
        "outputId": "c9c5ff51-1cb8-4d86-f1ea-2d96c6a77f1b"
      },
      "source": [
        "# Freeze four convolution blocks\n",
        "for layer in vgg_model.layers[:int(0.6*len(vgg_model.layers))]:\n",
        "    layer.trainable = False\n",
        "# Make sure you have frozen the correct layers\n",
        "for i, layer in enumerate(vgg_model.layers):\n",
        "    print(i, layer.name, layer.trainable)"
      ],
      "execution_count": null,
      "outputs": [
        {
          "output_type": "stream",
          "name": "stdout",
          "text": [
            "0 input_3 False\n",
            "1 block1_conv1 False\n",
            "2 block1_conv2 False\n",
            "3 block1_pool False\n",
            "4 block2_conv1 False\n",
            "5 block2_conv2 False\n",
            "6 block2_pool False\n",
            "7 block3_conv1 False\n",
            "8 block3_conv2 False\n",
            "9 block3_conv3 False\n",
            "10 block3_pool False\n",
            "11 block4_conv1 True\n",
            "12 block4_conv2 True\n",
            "13 block4_conv3 True\n",
            "14 block4_pool True\n",
            "15 block5_conv1 True\n",
            "16 block5_conv2 True\n",
            "17 block5_conv3 True\n",
            "18 block5_pool True\n"
          ]
        }
      ]
    },
    {
      "cell_type": "code",
      "metadata": {
        "colab": {
          "base_uri": "https://localhost:8080/"
        },
        "id": "Y4fYz2WkoP_0",
        "outputId": "819c40ba-2e5a-47bb-df79-75fae0896289"
      },
      "source": [
        "vgg_model.summary()"
      ],
      "execution_count": null,
      "outputs": [
        {
          "output_type": "stream",
          "name": "stdout",
          "text": [
            "Model: \"vgg16\"\n",
            "_________________________________________________________________\n",
            "Layer (type)                 Output Shape              Param #   \n",
            "=================================================================\n",
            "input_3 (InputLayer)         [(None, 224, 224, 3)]     0         \n",
            "_________________________________________________________________\n",
            "block1_conv1 (Conv2D)        (None, 224, 224, 64)      1792      \n",
            "_________________________________________________________________\n",
            "block1_conv2 (Conv2D)        (None, 224, 224, 64)      36928     \n",
            "_________________________________________________________________\n",
            "block1_pool (MaxPooling2D)   (None, 112, 112, 64)      0         \n",
            "_________________________________________________________________\n",
            "block2_conv1 (Conv2D)        (None, 112, 112, 128)     73856     \n",
            "_________________________________________________________________\n",
            "block2_conv2 (Conv2D)        (None, 112, 112, 128)     147584    \n",
            "_________________________________________________________________\n",
            "block2_pool (MaxPooling2D)   (None, 56, 56, 128)       0         \n",
            "_________________________________________________________________\n",
            "block3_conv1 (Conv2D)        (None, 56, 56, 256)       295168    \n",
            "_________________________________________________________________\n",
            "block3_conv2 (Conv2D)        (None, 56, 56, 256)       590080    \n",
            "_________________________________________________________________\n",
            "block3_conv3 (Conv2D)        (None, 56, 56, 256)       590080    \n",
            "_________________________________________________________________\n",
            "block3_pool (MaxPooling2D)   (None, 28, 28, 256)       0         \n",
            "_________________________________________________________________\n",
            "block4_conv1 (Conv2D)        (None, 28, 28, 512)       1180160   \n",
            "_________________________________________________________________\n",
            "block4_conv2 (Conv2D)        (None, 28, 28, 512)       2359808   \n",
            "_________________________________________________________________\n",
            "block4_conv3 (Conv2D)        (None, 28, 28, 512)       2359808   \n",
            "_________________________________________________________________\n",
            "block4_pool (MaxPooling2D)   (None, 14, 14, 512)       0         \n",
            "_________________________________________________________________\n",
            "block5_conv1 (Conv2D)        (None, 14, 14, 512)       2359808   \n",
            "_________________________________________________________________\n",
            "block5_conv2 (Conv2D)        (None, 14, 14, 512)       2359808   \n",
            "_________________________________________________________________\n",
            "block5_conv3 (Conv2D)        (None, 14, 14, 512)       2359808   \n",
            "_________________________________________________________________\n",
            "block5_pool (MaxPooling2D)   (None, 7, 7, 512)         0         \n",
            "=================================================================\n",
            "Total params: 14,714,688\n",
            "Trainable params: 12,979,200\n",
            "Non-trainable params: 1,735,488\n",
            "_________________________________________________________________\n"
          ]
        }
      ]
    },
    {
      "cell_type": "code",
      "metadata": {
        "id": "qyACHRcHMmh9"
      },
      "source": [
        "x = vgg_model.output\n",
        "x = GlobalAveragePooling2D()(x) layers\n",
        "x = BatchNormalization()(x)\n",
        "x = Dense(1024, activation='relu')(x)\n",
        "x = Dropout(0.2)(x) \n",
        "x = Dense(256, activation='relu')(x)\n",
        "x = Dense(2, activation='softmax')(x) \n",
        "\n",
        "transfer_model = Model(inputs=vgg_model.input, outputs=x)"
      ],
      "execution_count": null,
      "outputs": []
    },
    {
      "cell_type": "code",
      "metadata": {
        "colab": {
          "base_uri": "https://localhost:8080/"
        },
        "id": "Iuk3bL-tr-3h",
        "outputId": "c236003f-aec2-48e9-a1d3-04561edf103c"
      },
      "source": [
        "transfer_model.summary()"
      ],
      "execution_count": null,
      "outputs": [
        {
          "output_type": "stream",
          "name": "stdout",
          "text": [
            "Model: \"model_2\"\n",
            "_________________________________________________________________\n",
            "Layer (type)                 Output Shape              Param #   \n",
            "=================================================================\n",
            "input_3 (InputLayer)         [(None, 224, 224, 3)]     0         \n",
            "_________________________________________________________________\n",
            "block1_conv1 (Conv2D)        (None, 224, 224, 64)      1792      \n",
            "_________________________________________________________________\n",
            "block1_conv2 (Conv2D)        (None, 224, 224, 64)      36928     \n",
            "_________________________________________________________________\n",
            "block1_pool (MaxPooling2D)   (None, 112, 112, 64)      0         \n",
            "_________________________________________________________________\n",
            "block2_conv1 (Conv2D)        (None, 112, 112, 128)     73856     \n",
            "_________________________________________________________________\n",
            "block2_conv2 (Conv2D)        (None, 112, 112, 128)     147584    \n",
            "_________________________________________________________________\n",
            "block2_pool (MaxPooling2D)   (None, 56, 56, 128)       0         \n",
            "_________________________________________________________________\n",
            "block3_conv1 (Conv2D)        (None, 56, 56, 256)       295168    \n",
            "_________________________________________________________________\n",
            "block3_conv2 (Conv2D)        (None, 56, 56, 256)       590080    \n",
            "_________________________________________________________________\n",
            "block3_conv3 (Conv2D)        (None, 56, 56, 256)       590080    \n",
            "_________________________________________________________________\n",
            "block3_pool (MaxPooling2D)   (None, 28, 28, 256)       0         \n",
            "_________________________________________________________________\n",
            "block4_conv1 (Conv2D)        (None, 28, 28, 512)       1180160   \n",
            "_________________________________________________________________\n",
            "block4_conv2 (Conv2D)        (None, 28, 28, 512)       2359808   \n",
            "_________________________________________________________________\n",
            "block4_conv3 (Conv2D)        (None, 28, 28, 512)       2359808   \n",
            "_________________________________________________________________\n",
            "block4_pool (MaxPooling2D)   (None, 14, 14, 512)       0         \n",
            "_________________________________________________________________\n",
            "block5_conv1 (Conv2D)        (None, 14, 14, 512)       2359808   \n",
            "_________________________________________________________________\n",
            "block5_conv2 (Conv2D)        (None, 14, 14, 512)       2359808   \n",
            "_________________________________________________________________\n",
            "block5_conv3 (Conv2D)        (None, 14, 14, 512)       2359808   \n",
            "_________________________________________________________________\n",
            "block5_pool (MaxPooling2D)   (None, 7, 7, 512)         0         \n",
            "_________________________________________________________________\n",
            "global_average_pooling2d_2 ( (None, 512)               0         \n",
            "_________________________________________________________________\n",
            "batch_normalization_2 (Batch (None, 512)               2048      \n",
            "_________________________________________________________________\n",
            "dense_6 (Dense)              (None, 1024)              525312    \n",
            "_________________________________________________________________\n",
            "dropout_2 (Dropout)          (None, 1024)              0         \n",
            "_________________________________________________________________\n",
            "dense_7 (Dense)              (None, 256)               262400    \n",
            "_________________________________________________________________\n",
            "dense_8 (Dense)              (None, 2)                 514       \n",
            "=================================================================\n",
            "Total params: 15,504,962\n",
            "Trainable params: 13,768,450\n",
            "Non-trainable params: 1,736,512\n",
            "_________________________________________________________________\n"
          ]
        }
      ]
    },
    {
      "cell_type": "code",
      "metadata": {
        "id": "_z_2MPMMMsTy"
      },
      "source": [
        "checkpoint = ModelCheckpoint('drive/MyDrive/vgg_cavity_1.h5', monitor= 'val_accuracy', mode= 'max', save_best_only = True, verbose= 1)"
      ],
      "execution_count": null,
      "outputs": []
    },
    {
      "cell_type": "code",
      "metadata": {
        "colab": {
          "base_uri": "https://localhost:8080/"
        },
        "id": "_qEDRcCJMzi_",
        "outputId": "02aa117c-d273-4ea1-b65f-2fe5d94ae6c7"
      },
      "source": [
        "from tensorflow.keras.optimizers import SGD,Adam\n",
        "from tensorflow.keras import layers, models, Model, optimizers\n",
        "\n",
        "learning_rate= 1e-5\n",
        "opt = Adam(lr = learning_rate)\n",
        "transfer_model.compile(loss=\"categorical_crossentropy\", optimizer=opt, metrics=[\"accuracy\"])\n",
        "history = transfer_model.fit(train_generator, epochs=80, validation_data=validation_generator, verbose=1, callbacks=[checkpoint])"
      ],
      "execution_count": null,
      "outputs": [
        {
          "output_type": "stream",
          "name": "stderr",
          "text": [
            "/usr/local/lib/python3.7/dist-packages/keras/optimizer_v2/optimizer_v2.py:356: UserWarning: The `lr` argument is deprecated, use `learning_rate` instead.\n",
            "  \"The `lr` argument is deprecated, use `learning_rate` instead.\")\n"
          ]
        },
        {
          "output_type": "stream",
          "name": "stdout",
          "text": [
            "Epoch 1/80\n",
            "21/21 [==============================] - 11s 455ms/step - loss: 0.8269 - accuracy: 0.5402 - val_loss: 0.7140 - val_accuracy: 0.5590\n",
            "\n",
            "Epoch 00001: val_accuracy improved from -inf to 0.55901, saving model to drive/MyDrive/vgg_cavity_1.h5\n",
            "Epoch 2/80\n",
            "21/21 [==============================] - 9s 435ms/step - loss: 0.5833 - accuracy: 0.6842 - val_loss: 0.6380 - val_accuracy: 0.5714\n",
            "\n",
            "Epoch 00002: val_accuracy improved from 0.55901 to 0.57143, saving model to drive/MyDrive/vgg_cavity_1.h5\n",
            "Epoch 3/80\n",
            "21/21 [==============================] - 9s 438ms/step - loss: 0.5136 - accuracy: 0.7539 - val_loss: 0.6072 - val_accuracy: 0.6149\n",
            "\n",
            "Epoch 00003: val_accuracy improved from 0.57143 to 0.61491, saving model to drive/MyDrive/vgg_cavity_1.h5\n",
            "Epoch 4/80\n",
            "21/21 [==============================] - 9s 439ms/step - loss: 0.4658 - accuracy: 0.7941 - val_loss: 0.5767 - val_accuracy: 0.6708\n",
            "\n",
            "Epoch 00004: val_accuracy improved from 0.61491 to 0.67081, saving model to drive/MyDrive/vgg_cavity_1.h5\n",
            "Epoch 5/80\n",
            "21/21 [==============================] - 9s 433ms/step - loss: 0.4324 - accuracy: 0.8034 - val_loss: 0.5441 - val_accuracy: 0.6957\n",
            "\n",
            "Epoch 00005: val_accuracy improved from 0.67081 to 0.69565, saving model to drive/MyDrive/vgg_cavity_1.h5\n",
            "Epoch 6/80\n",
            "21/21 [==============================] - 9s 434ms/step - loss: 0.3813 - accuracy: 0.8653 - val_loss: 0.5260 - val_accuracy: 0.7391\n",
            "\n",
            "Epoch 00006: val_accuracy improved from 0.69565 to 0.73913, saving model to drive/MyDrive/vgg_cavity_1.h5\n",
            "Epoch 7/80\n",
            "21/21 [==============================] - 9s 439ms/step - loss: 0.3550 - accuracy: 0.8839 - val_loss: 0.5134 - val_accuracy: 0.7578\n",
            "\n",
            "Epoch 00007: val_accuracy improved from 0.73913 to 0.75776, saving model to drive/MyDrive/vgg_cavity_1.h5\n",
            "Epoch 8/80\n",
            "21/21 [==============================] - 9s 434ms/step - loss: 0.3382 - accuracy: 0.8854 - val_loss: 0.5083 - val_accuracy: 0.7516\n",
            "\n",
            "Epoch 00008: val_accuracy did not improve from 0.75776\n",
            "Epoch 9/80\n",
            "21/21 [==============================] - 9s 435ms/step - loss: 0.3027 - accuracy: 0.9025 - val_loss: 0.4992 - val_accuracy: 0.7764\n",
            "\n",
            "Epoch 00009: val_accuracy improved from 0.75776 to 0.77640, saving model to drive/MyDrive/vgg_cavity_1.h5\n",
            "Epoch 10/80\n",
            "21/21 [==============================] - 9s 435ms/step - loss: 0.2694 - accuracy: 0.9303 - val_loss: 0.4561 - val_accuracy: 0.8012\n",
            "\n",
            "Epoch 00010: val_accuracy improved from 0.77640 to 0.80124, saving model to drive/MyDrive/vgg_cavity_1.h5\n",
            "Epoch 11/80\n",
            "21/21 [==============================] - 9s 436ms/step - loss: 0.2488 - accuracy: 0.9396 - val_loss: 0.4492 - val_accuracy: 0.8012\n",
            "\n",
            "Epoch 00011: val_accuracy did not improve from 0.80124\n",
            "Epoch 12/80\n",
            "21/21 [==============================] - 9s 433ms/step - loss: 0.2202 - accuracy: 0.9505 - val_loss: 0.4280 - val_accuracy: 0.8385\n",
            "\n",
            "Epoch 00012: val_accuracy improved from 0.80124 to 0.83851, saving model to drive/MyDrive/vgg_cavity_1.h5\n",
            "Epoch 13/80\n",
            "21/21 [==============================] - 9s 436ms/step - loss: 0.2135 - accuracy: 0.9474 - val_loss: 0.4156 - val_accuracy: 0.8385\n",
            "\n",
            "Epoch 00013: val_accuracy did not improve from 0.83851\n",
            "Epoch 14/80\n",
            "21/21 [==============================] - 9s 432ms/step - loss: 0.1975 - accuracy: 0.9567 - val_loss: 0.3879 - val_accuracy: 0.8634\n",
            "\n",
            "Epoch 00014: val_accuracy improved from 0.83851 to 0.86335, saving model to drive/MyDrive/vgg_cavity_1.h5\n",
            "Epoch 15/80\n",
            "21/21 [==============================] - 9s 433ms/step - loss: 0.1688 - accuracy: 0.9690 - val_loss: 0.3925 - val_accuracy: 0.8571\n",
            "\n",
            "Epoch 00015: val_accuracy did not improve from 0.86335\n",
            "Epoch 16/80\n",
            "21/21 [==============================] - 9s 432ms/step - loss: 0.1583 - accuracy: 0.9737 - val_loss: 0.3664 - val_accuracy: 0.8634\n",
            "\n",
            "Epoch 00016: val_accuracy did not improve from 0.86335\n",
            "Epoch 17/80\n",
            "21/21 [==============================] - 9s 432ms/step - loss: 0.1536 - accuracy: 0.9737 - val_loss: 0.3606 - val_accuracy: 0.8634\n",
            "\n",
            "Epoch 00017: val_accuracy did not improve from 0.86335\n",
            "Epoch 18/80\n",
            "21/21 [==============================] - 9s 436ms/step - loss: 0.1352 - accuracy: 0.9845 - val_loss: 0.3526 - val_accuracy: 0.8571\n",
            "\n",
            "Epoch 00018: val_accuracy did not improve from 0.86335\n",
            "Epoch 19/80\n",
            "21/21 [==============================] - 9s 434ms/step - loss: 0.1263 - accuracy: 0.9783 - val_loss: 0.3477 - val_accuracy: 0.8758\n",
            "\n",
            "Epoch 00019: val_accuracy improved from 0.86335 to 0.87578, saving model to drive/MyDrive/vgg_cavity_1.h5\n",
            "Epoch 20/80\n",
            "21/21 [==============================] - 9s 433ms/step - loss: 0.1132 - accuracy: 0.9892 - val_loss: 0.3378 - val_accuracy: 0.8820\n",
            "\n",
            "Epoch 00020: val_accuracy improved from 0.87578 to 0.88199, saving model to drive/MyDrive/vgg_cavity_1.h5\n",
            "Epoch 21/80\n",
            "21/21 [==============================] - 9s 432ms/step - loss: 0.1021 - accuracy: 0.9938 - val_loss: 0.3466 - val_accuracy: 0.8634\n",
            "\n",
            "Epoch 00021: val_accuracy did not improve from 0.88199\n",
            "Epoch 22/80\n",
            "21/21 [==============================] - 9s 433ms/step - loss: 0.0894 - accuracy: 0.9954 - val_loss: 0.3158 - val_accuracy: 0.8758\n",
            "\n",
            "Epoch 00022: val_accuracy did not improve from 0.88199\n",
            "Epoch 23/80\n",
            "21/21 [==============================] - 9s 436ms/step - loss: 0.0818 - accuracy: 0.9954 - val_loss: 0.3312 - val_accuracy: 0.8696\n",
            "\n",
            "Epoch 00023: val_accuracy did not improve from 0.88199\n",
            "Epoch 24/80\n",
            "21/21 [==============================] - 9s 433ms/step - loss: 0.0788 - accuracy: 0.9876 - val_loss: 0.3180 - val_accuracy: 0.8758\n",
            "\n",
            "Epoch 00024: val_accuracy did not improve from 0.88199\n",
            "Epoch 25/80\n",
            "21/21 [==============================] - 9s 444ms/step - loss: 0.0703 - accuracy: 0.9954 - val_loss: 0.2962 - val_accuracy: 0.9068\n",
            "\n",
            "Epoch 00025: val_accuracy improved from 0.88199 to 0.90683, saving model to drive/MyDrive/vgg_cavity_1.h5\n",
            "Epoch 26/80\n",
            "21/21 [==============================] - 9s 436ms/step - loss: 0.0699 - accuracy: 0.9938 - val_loss: 0.3037 - val_accuracy: 0.8696\n",
            "\n",
            "Epoch 00026: val_accuracy did not improve from 0.90683\n",
            "Epoch 27/80\n",
            "21/21 [==============================] - 9s 435ms/step - loss: 0.0606 - accuracy: 0.9969 - val_loss: 0.3123 - val_accuracy: 0.8571\n",
            "\n",
            "Epoch 00027: val_accuracy did not improve from 0.90683\n",
            "Epoch 28/80\n",
            "21/21 [==============================] - 9s 433ms/step - loss: 0.0566 - accuracy: 0.9923 - val_loss: 0.2967 - val_accuracy: 0.8820\n",
            "\n",
            "Epoch 00028: val_accuracy did not improve from 0.90683\n",
            "Epoch 29/80\n",
            "21/21 [==============================] - 9s 436ms/step - loss: 0.0558 - accuracy: 0.9923 - val_loss: 0.3022 - val_accuracy: 0.8882\n",
            "\n",
            "Epoch 00029: val_accuracy did not improve from 0.90683\n",
            "Epoch 30/80\n",
            "21/21 [==============================] - 9s 435ms/step - loss: 0.0473 - accuracy: 0.9985 - val_loss: 0.2924 - val_accuracy: 0.8944\n",
            "\n",
            "Epoch 00030: val_accuracy did not improve from 0.90683\n",
            "Epoch 31/80\n",
            "21/21 [==============================] - 9s 435ms/step - loss: 0.0455 - accuracy: 0.9954 - val_loss: 0.2907 - val_accuracy: 0.8820\n",
            "\n",
            "Epoch 00031: val_accuracy did not improve from 0.90683\n",
            "Epoch 32/80\n",
            "21/21 [==============================] - 9s 443ms/step - loss: 0.0412 - accuracy: 0.9969 - val_loss: 0.2912 - val_accuracy: 0.9006\n",
            "\n",
            "Epoch 00032: val_accuracy did not improve from 0.90683\n",
            "Epoch 33/80\n",
            "21/21 [==============================] - 9s 434ms/step - loss: 0.0362 - accuracy: 1.0000 - val_loss: 0.3052 - val_accuracy: 0.8882\n",
            "\n",
            "Epoch 00033: val_accuracy did not improve from 0.90683\n",
            "Epoch 34/80\n",
            "21/21 [==============================] - 9s 435ms/step - loss: 0.0329 - accuracy: 1.0000 - val_loss: 0.2964 - val_accuracy: 0.9006\n",
            "\n",
            "Epoch 00034: val_accuracy did not improve from 0.90683\n",
            "Epoch 35/80\n",
            "21/21 [==============================] - 9s 434ms/step - loss: 0.0302 - accuracy: 0.9985 - val_loss: 0.2562 - val_accuracy: 0.8882\n",
            "\n",
            "Epoch 00035: val_accuracy did not improve from 0.90683\n",
            "Epoch 36/80\n",
            "21/21 [==============================] - 9s 435ms/step - loss: 0.0323 - accuracy: 0.9985 - val_loss: 0.2776 - val_accuracy: 0.8882\n",
            "\n",
            "Epoch 00036: val_accuracy did not improve from 0.90683\n",
            "Epoch 37/80\n",
            "21/21 [==============================] - 9s 437ms/step - loss: 0.0303 - accuracy: 0.9985 - val_loss: 0.2896 - val_accuracy: 0.8882\n",
            "\n",
            "Epoch 00037: val_accuracy did not improve from 0.90683\n",
            "Epoch 38/80\n",
            "21/21 [==============================] - 9s 435ms/step - loss: 0.0271 - accuracy: 0.9969 - val_loss: 0.2832 - val_accuracy: 0.8944\n",
            "\n",
            "Epoch 00038: val_accuracy did not improve from 0.90683\n",
            "Epoch 39/80\n",
            "21/21 [==============================] - 10s 492ms/step - loss: 0.0221 - accuracy: 1.0000 - val_loss: 0.2792 - val_accuracy: 0.8882\n",
            "\n",
            "Epoch 00039: val_accuracy did not improve from 0.90683\n",
            "Epoch 40/80\n",
            "21/21 [==============================] - 9s 434ms/step - loss: 0.0210 - accuracy: 0.9985 - val_loss: 0.2898 - val_accuracy: 0.8944\n",
            "\n",
            "Epoch 00040: val_accuracy did not improve from 0.90683\n",
            "Epoch 41/80\n",
            "21/21 [==============================] - 9s 436ms/step - loss: 0.0199 - accuracy: 1.0000 - val_loss: 0.3040 - val_accuracy: 0.8820\n",
            "\n",
            "Epoch 00041: val_accuracy did not improve from 0.90683\n",
            "Epoch 42/80\n",
            "21/21 [==============================] - 9s 432ms/step - loss: 0.0212 - accuracy: 0.9985 - val_loss: 0.2598 - val_accuracy: 0.8882\n",
            "\n",
            "Epoch 00042: val_accuracy did not improve from 0.90683\n",
            "Epoch 43/80\n",
            "21/21 [==============================] - 9s 437ms/step - loss: 0.0186 - accuracy: 1.0000 - val_loss: 0.2937 - val_accuracy: 0.8882\n",
            "\n",
            "Epoch 00043: val_accuracy did not improve from 0.90683\n",
            "Epoch 44/80\n",
            "21/21 [==============================] - 9s 434ms/step - loss: 0.0174 - accuracy: 0.9985 - val_loss: 0.2836 - val_accuracy: 0.8944\n",
            "\n",
            "Epoch 00044: val_accuracy did not improve from 0.90683\n",
            "Epoch 45/80\n",
            "21/21 [==============================] - 9s 434ms/step - loss: 0.0178 - accuracy: 0.9969 - val_loss: 0.3319 - val_accuracy: 0.9006\n",
            "\n",
            "Epoch 00045: val_accuracy did not improve from 0.90683\n",
            "Epoch 46/80\n",
            "21/21 [==============================] - 9s 434ms/step - loss: 0.0191 - accuracy: 0.9969 - val_loss: 0.3018 - val_accuracy: 0.8882\n",
            "\n",
            "Epoch 00046: val_accuracy did not improve from 0.90683\n",
            "Epoch 47/80\n",
            "21/21 [==============================] - 9s 433ms/step - loss: 0.0169 - accuracy: 0.9985 - val_loss: 0.2748 - val_accuracy: 0.9006\n",
            "\n",
            "Epoch 00047: val_accuracy did not improve from 0.90683\n",
            "Epoch 48/80\n",
            "21/21 [==============================] - 9s 433ms/step - loss: 0.0142 - accuracy: 1.0000 - val_loss: 0.2824 - val_accuracy: 0.9006\n",
            "\n",
            "Epoch 00048: val_accuracy did not improve from 0.90683\n",
            "Epoch 49/80\n",
            "21/21 [==============================] - 9s 434ms/step - loss: 0.0114 - accuracy: 1.0000 - val_loss: 0.2847 - val_accuracy: 0.8882\n",
            "\n",
            "Epoch 00049: val_accuracy did not improve from 0.90683\n",
            "Epoch 50/80\n",
            "21/21 [==============================] - 9s 434ms/step - loss: 0.0129 - accuracy: 1.0000 - val_loss: 0.2930 - val_accuracy: 0.8882\n",
            "\n",
            "Epoch 00050: val_accuracy did not improve from 0.90683\n",
            "Epoch 51/80\n",
            "21/21 [==============================] - 9s 433ms/step - loss: 0.0138 - accuracy: 0.9985 - val_loss: 0.2868 - val_accuracy: 0.8882\n",
            "\n",
            "Epoch 00051: val_accuracy did not improve from 0.90683\n",
            "Epoch 52/80\n",
            "21/21 [==============================] - 9s 434ms/step - loss: 0.0110 - accuracy: 1.0000 - val_loss: 0.2900 - val_accuracy: 0.9006\n",
            "\n",
            "Epoch 00052: val_accuracy did not improve from 0.90683\n",
            "Epoch 53/80\n",
            "21/21 [==============================] - 9s 435ms/step - loss: 0.0110 - accuracy: 1.0000 - val_loss: 0.2890 - val_accuracy: 0.9006\n",
            "\n",
            "Epoch 00053: val_accuracy did not improve from 0.90683\n",
            "Epoch 54/80\n",
            "21/21 [==============================] - 9s 434ms/step - loss: 0.0108 - accuracy: 0.9985 - val_loss: 0.3155 - val_accuracy: 0.8882\n",
            "\n",
            "Epoch 00054: val_accuracy did not improve from 0.90683\n",
            "Epoch 55/80\n",
            "21/21 [==============================] - 9s 442ms/step - loss: 0.0094 - accuracy: 1.0000 - val_loss: 0.2956 - val_accuracy: 0.8882\n",
            "\n",
            "Epoch 00055: val_accuracy did not improve from 0.90683\n",
            "Epoch 56/80\n",
            "21/21 [==============================] - 9s 434ms/step - loss: 0.0084 - accuracy: 1.0000 - val_loss: 0.2902 - val_accuracy: 0.9006\n",
            "\n",
            "Epoch 00056: val_accuracy did not improve from 0.90683\n",
            "Epoch 57/80\n",
            "21/21 [==============================] - 9s 431ms/step - loss: 0.0099 - accuracy: 0.9985 - val_loss: 0.3047 - val_accuracy: 0.9006\n",
            "\n",
            "Epoch 00057: val_accuracy did not improve from 0.90683\n",
            "Epoch 58/80\n",
            "21/21 [==============================] - 9s 434ms/step - loss: 0.0088 - accuracy: 1.0000 - val_loss: 0.3064 - val_accuracy: 0.9006\n",
            "\n",
            "Epoch 00058: val_accuracy did not improve from 0.90683\n",
            "Epoch 59/80\n",
            "21/21 [==============================] - 9s 436ms/step - loss: 0.0076 - accuracy: 1.0000 - val_loss: 0.3100 - val_accuracy: 0.9006\n",
            "\n",
            "Epoch 00059: val_accuracy did not improve from 0.90683\n",
            "Epoch 60/80\n",
            "21/21 [==============================] - 9s 434ms/step - loss: 0.0071 - accuracy: 1.0000 - val_loss: 0.3148 - val_accuracy: 0.9006\n",
            "\n",
            "Epoch 00060: val_accuracy did not improve from 0.90683\n",
            "Epoch 61/80\n",
            "21/21 [==============================] - 9s 435ms/step - loss: 0.0078 - accuracy: 1.0000 - val_loss: 0.3343 - val_accuracy: 0.8882\n",
            "\n",
            "Epoch 00061: val_accuracy did not improve from 0.90683\n",
            "Epoch 62/80\n",
            "21/21 [==============================] - 9s 434ms/step - loss: 0.0067 - accuracy: 1.0000 - val_loss: 0.3224 - val_accuracy: 0.9006\n",
            "\n",
            "Epoch 00062: val_accuracy did not improve from 0.90683\n",
            "Epoch 63/80\n",
            "21/21 [==============================] - 9s 436ms/step - loss: 0.0065 - accuracy: 1.0000 - val_loss: 0.3019 - val_accuracy: 0.9068\n",
            "\n",
            "Epoch 00063: val_accuracy did not improve from 0.90683\n",
            "Epoch 64/80\n",
            "21/21 [==============================] - 9s 435ms/step - loss: 0.0064 - accuracy: 1.0000 - val_loss: 0.3139 - val_accuracy: 0.8882\n",
            "\n",
            "Epoch 00064: val_accuracy did not improve from 0.90683\n",
            "Epoch 65/80\n",
            "21/21 [==============================] - 9s 435ms/step - loss: 0.0057 - accuracy: 1.0000 - val_loss: 0.3114 - val_accuracy: 0.9006\n",
            "\n",
            "Epoch 00065: val_accuracy did not improve from 0.90683\n",
            "Epoch 66/80\n",
            "21/21 [==============================] - 9s 434ms/step - loss: 0.0055 - accuracy: 1.0000 - val_loss: 0.3232 - val_accuracy: 0.9006\n",
            "\n",
            "Epoch 00066: val_accuracy did not improve from 0.90683\n",
            "Epoch 67/80\n",
            "21/21 [==============================] - 9s 435ms/step - loss: 0.0055 - accuracy: 1.0000 - val_loss: 0.3134 - val_accuracy: 0.9006\n",
            "\n",
            "Epoch 00067: val_accuracy did not improve from 0.90683\n",
            "Epoch 68/80\n",
            "21/21 [==============================] - 9s 434ms/step - loss: 0.0056 - accuracy: 1.0000 - val_loss: 0.3335 - val_accuracy: 0.9006\n",
            "\n",
            "Epoch 00068: val_accuracy did not improve from 0.90683\n",
            "Epoch 69/80\n",
            "21/21 [==============================] - 9s 437ms/step - loss: 0.0051 - accuracy: 1.0000 - val_loss: 0.3115 - val_accuracy: 0.9068\n",
            "\n",
            "Epoch 00069: val_accuracy did not improve from 0.90683\n",
            "Epoch 70/80\n",
            "21/21 [==============================] - 9s 435ms/step - loss: 0.0051 - accuracy: 1.0000 - val_loss: 0.3211 - val_accuracy: 0.9006\n",
            "\n",
            "Epoch 00070: val_accuracy did not improve from 0.90683\n",
            "Epoch 71/80\n",
            "21/21 [==============================] - 9s 435ms/step - loss: 0.0051 - accuracy: 1.0000 - val_loss: 0.3349 - val_accuracy: 0.9006\n",
            "\n",
            "Epoch 00071: val_accuracy did not improve from 0.90683\n",
            "Epoch 72/80\n",
            "21/21 [==============================] - 9s 435ms/step - loss: 0.0048 - accuracy: 1.0000 - val_loss: 0.3402 - val_accuracy: 0.9068\n",
            "\n",
            "Epoch 00072: val_accuracy did not improve from 0.90683\n",
            "Epoch 73/80\n",
            "21/21 [==============================] - 9s 436ms/step - loss: 0.0041 - accuracy: 1.0000 - val_loss: 0.3415 - val_accuracy: 0.9006\n",
            "\n",
            "Epoch 00073: val_accuracy did not improve from 0.90683\n",
            "Epoch 74/80\n",
            "21/21 [==============================] - 9s 439ms/step - loss: 0.0060 - accuracy: 0.9985 - val_loss: 0.3249 - val_accuracy: 0.9006\n",
            "\n",
            "Epoch 00074: val_accuracy did not improve from 0.90683\n",
            "Epoch 75/80\n",
            "21/21 [==============================] - 9s 435ms/step - loss: 0.0039 - accuracy: 1.0000 - val_loss: 0.3469 - val_accuracy: 0.8882\n",
            "\n",
            "Epoch 00075: val_accuracy did not improve from 0.90683\n",
            "Epoch 76/80\n",
            "21/21 [==============================] - 9s 435ms/step - loss: 0.0048 - accuracy: 1.0000 - val_loss: 0.3379 - val_accuracy: 0.9068\n",
            "\n",
            "Epoch 00076: val_accuracy did not improve from 0.90683\n",
            "Epoch 77/80\n",
            "21/21 [==============================] - 9s 435ms/step - loss: 0.0041 - accuracy: 1.0000 - val_loss: 0.3480 - val_accuracy: 0.9068\n",
            "\n",
            "Epoch 00077: val_accuracy did not improve from 0.90683\n",
            "Epoch 78/80\n",
            "21/21 [==============================] - 9s 435ms/step - loss: 0.0039 - accuracy: 1.0000 - val_loss: 0.3232 - val_accuracy: 0.9006\n",
            "\n",
            "Epoch 00078: val_accuracy did not improve from 0.90683\n",
            "Epoch 79/80\n",
            "21/21 [==============================] - 9s 435ms/step - loss: 0.0034 - accuracy: 1.0000 - val_loss: 0.3333 - val_accuracy: 0.9006\n",
            "\n",
            "Epoch 00079: val_accuracy did not improve from 0.90683\n",
            "Epoch 80/80\n",
            "21/21 [==============================] - 9s 439ms/step - loss: 0.0029 - accuracy: 1.0000 - val_loss: 0.3275 - val_accuracy: 0.9006\n",
            "\n",
            "Epoch 00080: val_accuracy did not improve from 0.90683\n"
          ]
        }
      ]
    },
    {
      "cell_type": "code",
      "metadata": {
        "id": "v5aKxbV4NTDq",
        "colab": {
          "base_uri": "https://localhost:8080/",
          "height": 562
        },
        "outputId": "aa58f3b5-9813-47f7-e05d-1b7be75a80e2"
      },
      "source": [
        "acc = history.history['accuracy']\n",
        "val_acc = history.history['val_accuracy']\n",
        "loss = history.history['loss']\n",
        "val_loss = history.history['val_loss']\n",
        "epochs = range(1,len(acc)+1)\n",
        "plt.figure()\n",
        "plt.plot(epochs, acc, 'b', label = 'Training accuracy')\n",
        "plt.plot(epochs, val_acc, 'r', label='Validation accuracy')\n",
        "plt.title('Training and validation accuracy')\n",
        "plt.legend()\n",
        "#plt.savefig('Accuracy.jpg')\n",
        "plt.figure()\n",
        "plt.plot(epochs, loss, 'b', label = 'Training loss')\n",
        "plt.plot(epochs, val_loss, 'r', label='Validation loss')\n",
        "plt.title('Training and validation loss')\n",
        "plt.legend()\n",
        "#plt.savefig('Loss.jpg')"
      ],
      "execution_count": null,
      "outputs": [
        {
          "output_type": "execute_result",
          "data": {
            "text/plain": [
              "<matplotlib.legend.Legend at 0x7fb5be077250>"
            ]
          },
          "metadata": {},
          "execution_count": 120
        },
        {
          "output_type": "display_data",
          "data": {
            "image/png": "[encoded data removed]",
            "text/plain": [
              "<Figure size 432x288 with 1 Axes>"
            ]
          },
          "metadata": {
            "needs_background": "light"
          }
        },
        {
          "output_type": "display_data",
          "data": {
            "image/png": "[encoded data removed]",
            "text/plain": [
              "<Figure size 432x288 with 1 Axes>"
            ]
          },
          "metadata": {
            "needs_background": "light"
          }
        }
      ]
    },
    {
      "cell_type": "code",
      "metadata": {
        "id": "KgPEhtm1USVN"
      },
      "source": [
        "transfer_model = load_model('/content/drive/MyDrive/vgg_cavity_new_99_90.h5')"
      ],
      "execution_count": 13,
      "outputs": []
    },
    {
      "cell_type": "code",
      "metadata": {
        "id": "Mf_CE5_Tah_X",
        "colab": {
          "base_uri": "https://localhost:8080/"
        },
        "outputId": "35348ce1-9dc3-44f7-bff3-54fb9f83d8b7"
      },
      "source": [
        "prediction = transfer_model.predict_generator(validation_generator)"
      ],
      "execution_count": 14,
      "outputs": [
        {
          "output_type": "stream",
          "name": "stderr",
          "text": [
            "/usr/local/lib/python3.7/dist-packages/keras/engine/training.py:2035: UserWarning: `Model.predict_generator` is deprecated and will be removed in a future version. Please use `Model.predict`, which supports generators.\n",
            "  warnings.warn('`Model.predict_generator` is deprecated and '\n"
          ]
        }
      ]
    },
    {
      "cell_type": "code",
      "metadata": {
        "id": "HzgUy9pJam8j"
      },
      "source": [
        "import math\n",
        "preds = np.argmax(prediction,axis=1)"
      ],
      "execution_count": 15,
      "outputs": []
    },
    {
      "cell_type": "code",
      "metadata": {
        "id": "KPq4y78zdXpm",
        "colab": {
          "base_uri": "https://localhost:8080/"
        },
        "outputId": "2da65466-2251-41c7-d836-1181bba378d2"
      },
      "source": [
        "true_classes = validation_generator.classes"
      ],
      "execution_count": 16,
      "outputs": [
        {
          "output_type": "execute_result",
          "data": {
            "text/plain": [
              "numpy.ndarray"
            ]
          },
          "metadata": {},
          "execution_count": 16
        }
      ]
    },
    {
      "cell_type": "code",
      "metadata": {
        "colab": {
          "base_uri": "https://localhost:8080/",
          "height": 279
        },
        "id": "2M8UT0hmoUjL",
        "outputId": "b1fdc413-ee3f-43d7-872c-400b344b44d7"
      },
      "source": [
        "cm = confusion_matrix(true_classes, preds)\n",
        "labels = validation_generator.class_indices.keys()\n",
        "disp = ConfusionMatrixDisplay(confusion_matrix=cm, display_labels=labels)\n",
        "\n",
        "disp.plot(cmap=plt.cm.Blues)\n",
        "plt.show()"
      ],
      "execution_count": 25,
      "outputs": [
        {
          "output_type": "display_data",
          "data": {
            "image/png": "[encoded data removed]",
            "text/plain": [
              "<Figure size 432x288 with 2 Axes>"
            ]
          },
          "metadata": {
            "needs_background": "light"
          }
        }
      ]
    },
    {
      "cell_type": "code",
      "metadata": {
        "id": "3hmebLVj61L-",
        "colab": {
          "base_uri": "https://localhost:8080/"
        },
        "outputId": "b6da369d-b1b6-4a43-dc7c-6306f33764da"
      },
      "source": [
        "transfer_model.evaluate(validation_generator)"
      ],
      "execution_count": 19,
      "outputs": [
        {
          "output_type": "stream",
          "name": "stdout",
          "text": [
            "5/5 [==============================] - 79s 16s/step - loss: 0.2978 - accuracy: 0.9062\n"
          ]
        },
        {
          "output_type": "execute_result",
          "data": {
            "text/plain": [
              "[0.2978416085243225, 0.90625]"
            ]
          },
          "metadata": {},
          "execution_count": 19
        }
      ]
    },
    {
      "cell_type": "code",
      "metadata": {
        "colab": {
          "base_uri": "https://localhost:8080/"
        },
        "id": "7o199R0UvDza",
        "outputId": "7f3b8494-2851-48d0-f369-6879c27d126b"
      },
      "source": [
        "report = classification_report(true_classes, preds)\n",
        "print(report)"
      ],
      "execution_count": 20,
      "outputs": [
        {
          "output_type": "stream",
          "name": "stdout",
          "text": [
            "              precision    recall  f1-score   support\n",
            "\n",
            "           0       0.89      0.93      0.91        80\n",
            "           1       0.92      0.89      0.90        80\n",
            "\n",
            "    accuracy                           0.91       160\n",
            "   macro avg       0.91      0.91      0.91       160\n",
            "weighted avg       0.91      0.91      0.91       160\n",
            "\n"
          ]
        }
      ]
    }
  ]
}